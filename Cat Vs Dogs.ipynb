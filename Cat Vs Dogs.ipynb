{
 "cells": [
  {
   "cell_type": "code",
   "execution_count": 47,
   "id": "41dc385a",
   "metadata": {},
   "outputs": [],
   "source": [
    "import tensorflow as tf\n",
    "import numpy as np\n",
    "from keras.preprocessing import image\n",
    "from keras.preprocessing.image import ImageDataGenerator"
   ]
  },
  {
   "cell_type": "code",
   "execution_count": 5,
   "id": "1281279f",
   "metadata": {},
   "outputs": [],
   "source": [
    "#Data Augumentation\n",
    "train_da=ImageDataGenerator(rescale=1./255,shear_range=0.2,zoom_range=0.2,horizontal_flip=True)\n"
   ]
  },
  {
   "cell_type": "code",
   "execution_count": 16,
   "id": "9f32bb7a",
   "metadata": {},
   "outputs": [
    {
     "name": "stdout",
     "output_type": "stream",
     "text": [
      "Found 8005 images belonging to 2 classes.\n"
     ]
    }
   ],
   "source": [
    "#Loading data\n",
    "train=train_da.flow_from_directory(\"D:\\\\Git Hub Projects\\\\Cat Vs Dog\\\\training_set\\\\\",target_size=(64,64),color_mode='rgb',class_mode='binary',batch_size=32,shuffle=True,seed=20)"
   ]
  },
  {
   "cell_type": "code",
   "execution_count": 17,
   "id": "79651a78",
   "metadata": {},
   "outputs": [],
   "source": [
    "test_da=ImageDataGenerator(rescale=1./255)"
   ]
  },
  {
   "cell_type": "code",
   "execution_count": 18,
   "id": "c3c218f8",
   "metadata": {},
   "outputs": [
    {
     "name": "stdout",
     "output_type": "stream",
     "text": [
      "Found 2023 images belonging to 2 classes.\n"
     ]
    }
   ],
   "source": [
    "test=test_da.flow_from_directory(\"D:\\\\Git Hub Projects\\\\Cat Vs Dog\\\\test_set\\\\\",target_size=(64,64),color_mode='rgb',batch_size=32,class_mode='binary')"
   ]
  },
  {
   "cell_type": "code",
   "execution_count": 27,
   "id": "55dc0350",
   "metadata": {},
   "outputs": [],
   "source": [
    "### Creating Container\n",
    "model = tf.keras.models.Sequential()"
   ]
  },
  {
   "cell_type": "code",
   "execution_count": 35,
   "id": "e9b8f8f8",
   "metadata": {},
   "outputs": [],
   "source": [
    "model.add(tf.keras.layers.Conv2D(filters=32, kernel_size=3, activation='relu', input_shape=[64,64,3]))"
   ]
  },
  {
   "cell_type": "code",
   "execution_count": 36,
   "id": "2a5c2529",
   "metadata": {},
   "outputs": [],
   "source": [
    "model.add(tf.keras.layers.MaxPool2D(pool_size=2,strides=2))"
   ]
  },
  {
   "cell_type": "code",
   "execution_count": 37,
   "id": "ea94b1ed",
   "metadata": {},
   "outputs": [],
   "source": [
    "model.add(tf.keras.layers.Flatten())"
   ]
  },
  {
   "cell_type": "code",
   "execution_count": 38,
   "id": "7448b239",
   "metadata": {},
   "outputs": [],
   "source": [
    "model.add(tf.keras.layers.Dense(units=128,activation='relu'))"
   ]
  },
  {
   "cell_type": "code",
   "execution_count": 40,
   "id": "5033d5a7",
   "metadata": {},
   "outputs": [],
   "source": [
    "model.add(tf.keras.layers.Dense(units=1,activation='sigmoid'))"
   ]
  },
  {
   "cell_type": "code",
   "execution_count": 41,
   "id": "ef89d9c4",
   "metadata": {},
   "outputs": [],
   "source": [
    "model.compile(optimizer='adam',loss='binary_crossentropy',metrics=['accuracy'])"
   ]
  },
  {
   "cell_type": "code",
   "execution_count": 44,
   "id": "6b81144f",
   "metadata": {},
   "outputs": [
    {
     "name": "stdout",
     "output_type": "stream",
     "text": [
      "Epoch 1/25\n",
      "251/251 [==============================] - 131s 523ms/step - loss: 0.6409 - accuracy: 0.6374 - val_loss: 0.6072 - val_accuracy: 0.6817\n",
      "Epoch 2/25\n",
      "251/251 [==============================] - 51s 204ms/step - loss: 0.5769 - accuracy: 0.6972 - val_loss: 0.6526 - val_accuracy: 0.6347\n",
      "Epoch 3/25\n",
      "251/251 [==============================] - 33s 133ms/step - loss: 0.5433 - accuracy: 0.7304 - val_loss: 0.5200 - val_accuracy: 0.7514\n",
      "Epoch 4/25\n",
      "251/251 [==============================] - 36s 143ms/step - loss: 0.5088 - accuracy: 0.7497 - val_loss: 0.5078 - val_accuracy: 0.7632\n",
      "Epoch 5/25\n",
      "251/251 [==============================] - 52s 205ms/step - loss: 0.4825 - accuracy: 0.7614 - val_loss: 0.5094 - val_accuracy: 0.7622\n",
      "Epoch 6/25\n",
      "251/251 [==============================] - 51s 204ms/step - loss: 0.4741 - accuracy: 0.7743 - val_loss: 0.5167 - val_accuracy: 0.7504\n",
      "Epoch 7/25\n",
      "251/251 [==============================] - 50s 201ms/step - loss: 0.4550 - accuracy: 0.7876 - val_loss: 0.4889 - val_accuracy: 0.7627\n",
      "Epoch 8/25\n",
      "251/251 [==============================] - 51s 203ms/step - loss: 0.4337 - accuracy: 0.7969 - val_loss: 0.5064 - val_accuracy: 0.7696\n",
      "Epoch 9/25\n",
      "251/251 [==============================] - 52s 205ms/step - loss: 0.4241 - accuracy: 0.8040 - val_loss: 0.4905 - val_accuracy: 0.7736\n",
      "Epoch 10/25\n",
      "251/251 [==============================] - 52s 207ms/step - loss: 0.3989 - accuracy: 0.8182 - val_loss: 0.4882 - val_accuracy: 0.7879\n",
      "Epoch 11/25\n",
      "251/251 [==============================] - 52s 206ms/step - loss: 0.3796 - accuracy: 0.8299 - val_loss: 0.5292 - val_accuracy: 0.7761\n",
      "Epoch 12/25\n",
      "251/251 [==============================] - 52s 207ms/step - loss: 0.3731 - accuracy: 0.8289 - val_loss: 0.5462 - val_accuracy: 0.7474\n",
      "Epoch 13/25\n",
      "251/251 [==============================] - 51s 202ms/step - loss: 0.3608 - accuracy: 0.8370 - val_loss: 0.5842 - val_accuracy: 0.7790\n",
      "Epoch 14/25\n",
      "251/251 [==============================] - 52s 207ms/step - loss: 0.3485 - accuracy: 0.8472 - val_loss: 0.5273 - val_accuracy: 0.7835\n",
      "Epoch 15/25\n",
      "251/251 [==============================] - 52s 207ms/step - loss: 0.3307 - accuracy: 0.8562 - val_loss: 0.5345 - val_accuracy: 0.7978\n",
      "Epoch 16/25\n",
      "251/251 [==============================] - 52s 207ms/step - loss: 0.3123 - accuracy: 0.8671 - val_loss: 0.5473 - val_accuracy: 0.7810\n",
      "Epoch 17/25\n",
      "251/251 [==============================] - 52s 206ms/step - loss: 0.2954 - accuracy: 0.8726 - val_loss: 0.5867 - val_accuracy: 0.7988\n",
      "Epoch 18/25\n",
      "251/251 [==============================] - 52s 206ms/step - loss: 0.2771 - accuracy: 0.8874 - val_loss: 0.5890 - val_accuracy: 0.7790\n",
      "Epoch 19/25\n",
      "251/251 [==============================] - 51s 204ms/step - loss: 0.2693 - accuracy: 0.8911 - val_loss: 0.5240 - val_accuracy: 0.8151\n",
      "Epoch 20/25\n",
      "251/251 [==============================] - 52s 209ms/step - loss: 0.2485 - accuracy: 0.8987 - val_loss: 0.5663 - val_accuracy: 0.8067\n",
      "Epoch 21/25\n",
      "251/251 [==============================] - 52s 206ms/step - loss: 0.2382 - accuracy: 0.8999 - val_loss: 0.5718 - val_accuracy: 0.8047\n",
      "Epoch 22/25\n",
      "251/251 [==============================] - 52s 207ms/step - loss: 0.2167 - accuracy: 0.9111 - val_loss: 0.5814 - val_accuracy: 0.7924\n",
      "Epoch 23/25\n",
      "251/251 [==============================] - 52s 206ms/step - loss: 0.2084 - accuracy: 0.9173 - val_loss: 0.5969 - val_accuracy: 0.8008\n",
      "Epoch 24/25\n",
      "251/251 [==============================] - 52s 208ms/step - loss: 0.2013 - accuracy: 0.9209 - val_loss: 0.6585 - val_accuracy: 0.7963\n",
      "Epoch 25/25\n",
      "251/251 [==============================] - 52s 206ms/step - loss: 0.1831 - accuracy: 0.9267 - val_loss: 0.6673 - val_accuracy: 0.7968\n"
     ]
    },
    {
     "data": {
      "text/plain": [
       "<keras.callbacks.History at 0x27ac3ab2670>"
      ]
     },
     "execution_count": 44,
     "metadata": {},
     "output_type": "execute_result"
    }
   ],
   "source": [
    "model.fit(train,batch_size=32,validation_data=test,epochs=25,verbose=1)"
   ]
  },
  {
   "cell_type": "code",
   "execution_count": 48,
   "id": "ec8e86ed",
   "metadata": {},
   "outputs": [],
   "source": [
    "s=tf.keras.utils.load_img(\"D:\\\\Git Hub Projects\\\\Cat Vs Dog\\\\test_set\\\\dogs\\dog.4033.jpg\",target_size=(64,64))"
   ]
  },
  {
   "cell_type": "code",
   "execution_count": 52,
   "id": "6af99dab",
   "metadata": {},
   "outputs": [],
   "source": [
    "model.save(\"cats Vs Dogs.h5\")"
   ]
  },
  {
   "cell_type": "code",
   "execution_count": 51,
   "id": "1711e1ec",
   "metadata": {},
   "outputs": [],
   "source": [
    "img=image.img_to_array(s)\n",
    "img=np.expand_dims(img,axis=0)"
   ]
  },
  {
   "cell_type": "code",
   "execution_count": 53,
   "id": "88cf1eb7",
   "metadata": {},
   "outputs": [],
   "source": [
    "r=model.predict(img)"
   ]
  },
  {
   "cell_type": "code",
   "execution_count": 58,
   "id": "de86ad50",
   "metadata": {},
   "outputs": [],
   "source": [
    "d={0:'cat',1:\"dog\"}"
   ]
  },
  {
   "cell_type": "code",
   "execution_count": 59,
   "id": "d233037c",
   "metadata": {},
   "outputs": [
    {
     "name": "stdout",
     "output_type": "stream",
     "text": [
      "dog\n"
     ]
    }
   ],
   "source": [
    "print(d[int(r[0][0])])"
   ]
  },
  {
   "cell_type": "code",
   "execution_count": null,
   "id": "41996234",
   "metadata": {},
   "outputs": [],
   "source": []
  }
 ],
 "metadata": {
  "kernelspec": {
   "display_name": "Python 3 (ipykernel)",
   "language": "python",
   "name": "python3"
  },
  "language_info": {
   "codemirror_mode": {
    "name": "ipython",
    "version": 3
   },
   "file_extension": ".py",
   "mimetype": "text/x-python",
   "name": "python",
   "nbconvert_exporter": "python",
   "pygments_lexer": "ipython3",
   "version": "3.9.7"
  }
 },
 "nbformat": 4,
 "nbformat_minor": 5
}
